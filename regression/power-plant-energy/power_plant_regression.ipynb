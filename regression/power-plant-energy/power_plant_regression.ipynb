{
 "cells": [
  {
   "cell_type": "code",
   "execution_count": null,
   "id": "97c098f0-7414-4ed2-99a8-98f4934ac24f",
   "metadata": {},
   "outputs": [],
   "source": [
    "# Import necessary libraries\n",
    "import os\n",
    "import pandas as pd\n",
    "import numpy as np\n",
    "import joblib\n",
    "from google.cloud import bigquery, storage\n",
    "from sklearn.model_selection import train_test_split\n",
    "from sklearn.ensemble import RandomForestRegressor\n",
    "from sklearn.metrics import mean_squared_error"
   ]
  },
  {
   "cell_type": "code",
   "execution_count": null,
   "id": "96438496-53ff-4df4-9439-e5402e3e0973",
   "metadata": {},
   "outputs": [],
   "source": [
    "# Connect to BigQuery and load your data\n",
    "# Replace these with your actual values before running\n",
    "project_id = \"your-gcp-project-id\"  # Replace with your actual GCP project ID\n",
    "bucket_name = \"your-gcs-bucket-name\"  # Replace with your GCS bucket name\n",
    "client = bigquery.Client(project=project_id)\n",
    "\n",
    "# This SQL query selects all the data from your table\n",
    "# Assuming 'AT', 'V', 'AP', 'RH', 'PE' are your actual column names\n",
    "sql_query = \"\"\"\n",
    "SELECT `AT`, V, AP, RH, PE\n",
    "FROM `your-gcp-project-id.your_dataset_name.your_table_name`\n",
    "\"\"\""
   ]
  },
  {
   "cell_type": "code",
   "execution_count": null,
   "id": "88a01d03-68cb-4f38-ad83-f1a711286d32",
   "metadata": {},
   "outputs": [],
   "source": [
    "# Run the query and load the results into a Pandas DataFrame\n",
    "df = client.query(sql_query).to_dataframe()\n",
    "print(\"Successfully loaded data from BigQuery.\")\n",
    "print(df.head())"
   ]
  },
  {
   "cell_type": "code",
   "execution_count": null,
   "id": "041b6ba8-2da5-469c-806b-7e2677c5eabc",
   "metadata": {},
   "outputs": [],
   "source": [
    "# Define features (X) and the target (y)\n",
    "# X contains the sensor readings (the inputs to the model)\n",
    "X = df[['AT', 'V', 'AP', 'RH']]\n",
    "# y is the energy output we want to predict\n",
    "y = df['PE']"
   ]
  },
  {
   "cell_type": "code",
   "execution_count": null,
   "id": "c00e4ca2-0627-42a1-a8ca-24dc678982c5",
   "metadata": {},
   "outputs": [],
   "source": [
    "# Split data into training and testing sets\n",
    "# This function also randomly shuffles the data, which is very important.\n",
    "# We use 80% for training and 20% for testing.\n",
    "X_train, X_test, y_train, y_test = train_test_split(X, y, test_size=0.2, random_state=42)\n",
    "print(f\"Data split into {len(X_train)} training samples and {len(X_test)} testing samples.\")"
   ]
  },
  {
   "cell_type": "code",
   "execution_count": null,
   "id": "0edde748-c84e-44a8-91a9-64144a39e51b",
   "metadata": {},
   "outputs": [],
   "source": [
    "# Initialize and train the model\n",
    "# RandomForestRegressor is a powerful and reliable model for this kind of problem.\n",
    "model = RandomForestRegressor(n_estimators=100, random_state=42)\n",
    "\n",
    "print(\"Training the model...\")\n",
    "model.fit(X_train, y_train)\n",
    "print(\"Model training complete.\")"
   ]
  },
  {
   "cell_type": "code",
   "execution_count": null,
   "id": "286c99c9-7399-469b-858d-388f1216183b",
   "metadata": {},
   "outputs": [],
   "source": [
    "# Make predictions and evaluate the model's performance\n",
    "# The model makes predictions on the test data it has never seen before.\n",
    "predictions = model.predict(X_test)"
   ]
  },
  {
   "cell_type": "code",
   "execution_count": null,
   "id": "fd651230-d7d3-43da-b9c1-15e9e1d528f6",
   "metadata": {},
   "outputs": [],
   "source": [
    "# Result\n",
    "rmse = np.sqrt(mean_squared_error(y_test, predictions))\n",
    "\n",
    "print(f\"\\nModel Performance on the Test Set:\")\n",
    "print(f\"Root Mean Squared Error (RMSE): {rmse:.4f} MW\")"
   ]
  },
  {
   "cell_type": "code",
   "execution_count": null,
   "id": "b42d07ef-14a2-4310-b2c3-dbc2cd0a7f61",
   "metadata": {},
   "outputs": [],
   "source": [
    "# Save the model\n",
    "LOCAL_TEMP_FILENAME = 'temp_model.joblib'\n",
    "joblib.dump(model, LOCAL_TEMP_FILENAME)\n",
    "print(f\"Model temporarily saved to {LOCAL_TEMP_FILENAME}\")\n"
   ]
  },
  {
   "cell_type": "code",
   "execution_count": null,
   "id": "3fa6c5d4-d75c-41a7-b287-8f5f3d975349",
   "metadata": {},
   "outputs": [],
   "source": [
    "# Upload the local file to GCS\n",
    "from datetime import datetime\n",
    "today = datetime.now().strftime('%Y%m%d')\n",
    "\n",
    "GCS_BUCKET_NAME = 'your-bucket-name'\n",
    "GCS_MODEL_PATH = 'power-plant-project/models/regression_model_{today}.joblib'\n",
    "\n",
    "client = storage.Client()\n",
    "bucket = client.bucket(GCS_BUCKET_NAME)\n",
    "blob = bucket.blob(GCS_MODEL_PATH)\n",
    "\n",
    "# Start upload\n",
    "blob.upload_from_filename(LOCAL_TEMP_FILENAME)\n",
    "print(f\"Model uploaded to gs://{GCS_BUCKET_NAME}/{GCS_MODEL_PATH}\")\n",
    "\n",
    "# Delete temp file\n",
    "os.remove(LOCAL_TEMP_FILENAME)\n",
    "print(f\"Cleaned up local temporary file: {LOCAL_TEMP_FILENAME}\")"
   ]
  }
 ],
 "metadata": {
  "environment": {
   "kernel": "conda-base-py",
   "name": "workbench-notebooks.m131",
   "type": "gcloud",
   "uri": "us-docker.pkg.dev/deeplearning-platform-release/gcr.io/workbench-notebooks:m131"
  },
  "kernelspec": {
   "display_name": "Python 3 (ipykernel) (Local)",
   "language": "python",
   "name": "conda-base-py"
  },
  "language_info": {
   "codemirror_mode": {
    "name": "ipython",
    "version": 3
   },
   "file_extension": ".py",
   "mimetype": "text/x-python",
   "name": "python",
   "nbconvert_exporter": "python",
   "pygments_lexer": "ipython3",
   "version": "3.10.18"
  }
 },
 "nbformat": 4,
 "nbformat_minor": 5
}
